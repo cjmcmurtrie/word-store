{
 "cells": [
  {
   "cell_type": "code",
   "execution_count": 5,
   "metadata": {},
   "outputs": [],
   "source": [
    "from word_store.store import WordStore, batch_update_word_store"
   ]
  },
  {
   "cell_type": "markdown",
   "metadata": {},
   "source": [
    "The following will instantiate a WordStore object and update with the provided documents."
   ]
  },
  {
   "cell_type": "code",
   "execution_count": 6,
   "metadata": {},
   "outputs": [],
   "source": [
    "word_store = WordStore()\n",
    "word_store = batch_update_word_store(word_store, documents_path='tests/fixtures/documents/')"
   ]
  },
  {
   "cell_type": "markdown",
   "metadata": {},
   "source": [
    "To retrieve data for a given word..."
   ]
  },
  {
   "cell_type": "code",
   "execution_count": 7,
   "metadata": {},
   "outputs": [
    {
     "data": {
      "text/plain": [
       "{'count': 2,\n",
       " 'documents': ['tests/fixtures/documents/doc3.txt',\n",
       "  'tests/fixtures/documents/doc2.txt'],\n",
       " 'sentences': [\"The problem isn't that their philosophy isn't working the way it's supposed to - it's that it is.\",\n",
       "  \"For over two decades, he's subscribed to that old, discredited Republican philosophy - give more and more to those with the most and hope that prosperity trickles down to everyone else.\"]}"
      ]
     },
     "execution_count": 7,
     "metadata": {},
     "output_type": "execute_result"
    }
   ],
   "source": [
    "word_store.get_word('philosophy')"
   ]
  },
  {
   "cell_type": "markdown",
   "metadata": {},
   "source": [
    "And to get the data as a Pandas table..."
   ]
  },
  {
   "cell_type": "code",
   "execution_count": 9,
   "metadata": {},
   "outputs": [
    {
     "data": {
      "text/html": [
       "<div>\n",
       "<style scoped>\n",
       "    .dataframe tbody tr th:only-of-type {\n",
       "        vertical-align: middle;\n",
       "    }\n",
       "\n",
       "    .dataframe tbody tr th {\n",
       "        vertical-align: top;\n",
       "    }\n",
       "\n",
       "    .dataframe thead th {\n",
       "        text-align: right;\n",
       "    }\n",
       "</style>\n",
       "<table border=\"1\" class=\"dataframe\">\n",
       "  <thead>\n",
       "    <tr style=\"text-align: right;\">\n",
       "      <th></th>\n",
       "      <th>word</th>\n",
       "      <th>count</th>\n",
       "      <th>documents</th>\n",
       "      <th>sentences</th>\n",
       "    </tr>\n",
       "  </thead>\n",
       "  <tbody>\n",
       "    <tr>\n",
       "      <th>0</th>\n",
       "      <td>good</td>\n",
       "      <td>13</td>\n",
       "      <td>[tests/fixtures/documents/doc6.txt, tests/fixt...</td>\n",
       "      <td>[ Good morning., Fortunately, however, we've m...</td>\n",
       "    </tr>\n",
       "    <tr>\n",
       "      <th>1</th>\n",
       "      <td>morning</td>\n",
       "      <td>2</td>\n",
       "      <td>[tests/fixtures/documents/doc6.txt]</td>\n",
       "      <td>[ Good morning., Outstanding career officials ...</td>\n",
       "    </tr>\n",
       "    <tr>\n",
       "      <th>2</th>\n",
       "      <td>senator</td>\n",
       "      <td>12</td>\n",
       "      <td>[tests/fixtures/documents/doc6.txt, tests/fixt...</td>\n",
       "      <td>[As some of you know, Senator Lugar and I rece...</td>\n",
       "    </tr>\n",
       "    <tr>\n",
       "      <th>3</th>\n",
       "      <td>lugar</td>\n",
       "      <td>5</td>\n",
       "      <td>[tests/fixtures/documents/doc6.txt, tests/fixt...</td>\n",
       "      <td>[As some of you know, Senator Lugar and I rece...</td>\n",
       "    </tr>\n",
       "    <tr>\n",
       "      <th>4</th>\n",
       "      <td>recently</td>\n",
       "      <td>2</td>\n",
       "      <td>[tests/fixtures/documents/doc6.txt, tests/fixt...</td>\n",
       "      <td>[As some of you know, Senator Lugar and I rece...</td>\n",
       "    </tr>\n",
       "  </tbody>\n",
       "</table>\n",
       "</div>"
      ],
      "text/plain": [
       "       word count                                          documents  \\\n",
       "0      good    13  [tests/fixtures/documents/doc6.txt, tests/fixt...   \n",
       "1   morning     2                [tests/fixtures/documents/doc6.txt]   \n",
       "2   senator    12  [tests/fixtures/documents/doc6.txt, tests/fixt...   \n",
       "3     lugar     5  [tests/fixtures/documents/doc6.txt, tests/fixt...   \n",
       "4  recently     2  [tests/fixtures/documents/doc6.txt, tests/fixt...   \n",
       "\n",
       "                                           sentences  \n",
       "0  [ Good morning., Fortunately, however, we've m...  \n",
       "1  [ Good morning., Outstanding career officials ...  \n",
       "2  [As some of you know, Senator Lugar and I rece...  \n",
       "3  [As some of you know, Senator Lugar and I rece...  \n",
       "4  [As some of you know, Senator Lugar and I rece...  "
      ]
     },
     "execution_count": 9,
     "metadata": {},
     "output_type": "execute_result"
    }
   ],
   "source": [
    "word_store.to_pandas().head()"
   ]
  },
  {
   "cell_type": "code",
   "execution_count": null,
   "metadata": {},
   "outputs": [],
   "source": []
  }
 ],
 "metadata": {
  "kernelspec": {
   "display_name": "Python 3",
   "language": "python",
   "name": "python3"
  },
  "language_info": {
   "codemirror_mode": {
    "name": "ipython",
    "version": 3
   },
   "file_extension": ".py",
   "mimetype": "text/x-python",
   "name": "python",
   "nbconvert_exporter": "python",
   "pygments_lexer": "ipython3",
   "version": "3.7.4"
  }
 },
 "nbformat": 4,
 "nbformat_minor": 4
}
